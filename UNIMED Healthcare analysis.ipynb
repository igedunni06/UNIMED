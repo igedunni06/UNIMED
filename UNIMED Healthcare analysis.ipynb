{
 "cells": [
  {
   "cell_type": "code",
   "execution_count": 1,
   "metadata": {},
   "outputs": [],
   "source": [
    "import pandas as pd\n",
    "import numpy as np\n",
    "import matplotlib.pyplot as plt\n",
    "import seaborn as sns"
   ]
  },
  {
   "cell_type": "code",
   "execution_count": 2,
   "metadata": {},
   "outputs": [
    {
     "data": {
      "text/html": [
       "<div>\n",
       "<style scoped>\n",
       "    .dataframe tbody tr th:only-of-type {\n",
       "        vertical-align: middle;\n",
       "    }\n",
       "\n",
       "    .dataframe tbody tr th {\n",
       "        vertical-align: top;\n",
       "    }\n",
       "\n",
       "    .dataframe thead th {\n",
       "        text-align: right;\n",
       "    }\n",
       "</style>\n",
       "<table border=\"1\" class=\"dataframe\">\n",
       "  <thead>\n",
       "    <tr style=\"text-align: right;\">\n",
       "      <th></th>\n",
       "      <th>Date of Visit</th>\n",
       "      <th>Time of visit</th>\n",
       "      <th>Patient ID</th>\n",
       "      <th>Service Type</th>\n",
       "      <th>Treatment Cost</th>\n",
       "      <th>Medication Cost</th>\n",
       "      <th>Patient Satisfaction Score</th>\n",
       "      <th>Referral Source</th>\n",
       "      <th>Emergency Visit</th>\n",
       "      <th>Payment Status</th>\n",
       "      <th>...</th>\n",
       "      <th>Department</th>\n",
       "      <th>Diagnosis</th>\n",
       "      <th>Insurance Provider</th>\n",
       "      <th>Patient Name</th>\n",
       "      <th>Gender</th>\n",
       "      <th>Age</th>\n",
       "      <th>Race</th>\n",
       "      <th>Procedure</th>\n",
       "      <th>City</th>\n",
       "      <th>State</th>\n",
       "    </tr>\n",
       "  </thead>\n",
       "  <tbody>\n",
       "    <tr>\n",
       "      <th>0</th>\n",
       "      <td>2024-09-08</td>\n",
       "      <td>00:00:00</td>\n",
       "      <td>896</td>\n",
       "      <td>Emergency</td>\n",
       "      <td>187</td>\n",
       "      <td>165</td>\n",
       "      <td>6</td>\n",
       "      <td>Emergency</td>\n",
       "      <td>No</td>\n",
       "      <td>Paid</td>\n",
       "      <td>...</td>\n",
       "      <td>Neurology</td>\n",
       "      <td>Hypertension</td>\n",
       "      <td>AXA</td>\n",
       "      <td>Kofi Abubakar</td>\n",
       "      <td>Female</td>\n",
       "      <td>26</td>\n",
       "      <td>Black</td>\n",
       "      <td>Ultrasound</td>\n",
       "      <td>Bristol</td>\n",
       "      <td>Northern Ireland</td>\n",
       "    </tr>\n",
       "    <tr>\n",
       "      <th>1</th>\n",
       "      <td>2025-04-09</td>\n",
       "      <td>00:00:00</td>\n",
       "      <td>1</td>\n",
       "      <td>Outpatient</td>\n",
       "      <td>127</td>\n",
       "      <td>99</td>\n",
       "      <td>2</td>\n",
       "      <td>Physician Referral</td>\n",
       "      <td>No</td>\n",
       "      <td>Paid</td>\n",
       "      <td>...</td>\n",
       "      <td>Orthopedics</td>\n",
       "      <td>Fracture</td>\n",
       "      <td>AXA</td>\n",
       "      <td>Morgan Thompson</td>\n",
       "      <td>Male</td>\n",
       "      <td>18</td>\n",
       "      <td>Hispanic</td>\n",
       "      <td>CT Scan</td>\n",
       "      <td>Edinburgh</td>\n",
       "      <td>Northern Ireland</td>\n",
       "    </tr>\n",
       "    <tr>\n",
       "      <th>2</th>\n",
       "      <td>2025-02-07</td>\n",
       "      <td>00:00:00</td>\n",
       "      <td>3</td>\n",
       "      <td>Emergency</td>\n",
       "      <td>301</td>\n",
       "      <td>91</td>\n",
       "      <td>8</td>\n",
       "      <td>Physician Referral</td>\n",
       "      <td>No</td>\n",
       "      <td>Paid</td>\n",
       "      <td>...</td>\n",
       "      <td>Neurology</td>\n",
       "      <td>Asthma</td>\n",
       "      <td>AXA</td>\n",
       "      <td>Aisha Khan</td>\n",
       "      <td>Female</td>\n",
       "      <td>20</td>\n",
       "      <td>Asian</td>\n",
       "      <td>Ultrasound</td>\n",
       "      <td>Edinburgh</td>\n",
       "      <td>Northern Ireland</td>\n",
       "    </tr>\n",
       "    <tr>\n",
       "      <th>3</th>\n",
       "      <td>2025-02-12</td>\n",
       "      <td>00:00:00</td>\n",
       "      <td>14</td>\n",
       "      <td>Emergency</td>\n",
       "      <td>840</td>\n",
       "      <td>38</td>\n",
       "      <td>8</td>\n",
       "      <td>Emergency</td>\n",
       "      <td>Yes</td>\n",
       "      <td>Pending</td>\n",
       "      <td>...</td>\n",
       "      <td>General Surgery</td>\n",
       "      <td>Migraine</td>\n",
       "      <td>AXA</td>\n",
       "      <td>Quinn White</td>\n",
       "      <td>Female</td>\n",
       "      <td>24</td>\n",
       "      <td>Other</td>\n",
       "      <td>Ultrasound</td>\n",
       "      <td>Edinburgh</td>\n",
       "      <td>Northern Ireland</td>\n",
       "    </tr>\n",
       "    <tr>\n",
       "      <th>4</th>\n",
       "      <td>2025-01-04</td>\n",
       "      <td>00:00:00</td>\n",
       "      <td>20</td>\n",
       "      <td>Outpatient</td>\n",
       "      <td>495</td>\n",
       "      <td>125</td>\n",
       "      <td>3</td>\n",
       "      <td>Self-Referral</td>\n",
       "      <td>Yes</td>\n",
       "      <td>Paid</td>\n",
       "      <td>...</td>\n",
       "      <td>Orthopedics</td>\n",
       "      <td>Asthma</td>\n",
       "      <td>Allianz</td>\n",
       "      <td>Hina Chen</td>\n",
       "      <td>Female</td>\n",
       "      <td>27</td>\n",
       "      <td>Asian</td>\n",
       "      <td>X-Ray</td>\n",
       "      <td>Edinburgh</td>\n",
       "      <td>Northern Ireland</td>\n",
       "    </tr>\n",
       "    <tr>\n",
       "      <th>5</th>\n",
       "      <td>2025-01-04</td>\n",
       "      <td>00:00:00</td>\n",
       "      <td>23</td>\n",
       "      <td>Outpatient</td>\n",
       "      <td>675</td>\n",
       "      <td>134</td>\n",
       "      <td>4</td>\n",
       "      <td>Physician Referral</td>\n",
       "      <td>No</td>\n",
       "      <td>Paid</td>\n",
       "      <td>...</td>\n",
       "      <td>Orthopedics</td>\n",
       "      <td>Asthma</td>\n",
       "      <td>AXA</td>\n",
       "      <td>Mei Choi</td>\n",
       "      <td>Female</td>\n",
       "      <td>27</td>\n",
       "      <td>Asian</td>\n",
       "      <td>X-Ray</td>\n",
       "      <td>Edinburgh</td>\n",
       "      <td>Northern Ireland</td>\n",
       "    </tr>\n",
       "  </tbody>\n",
       "</table>\n",
       "<p>6 rows × 25 columns</p>\n",
       "</div>"
      ],
      "text/plain": [
       "  Date of Visit Time of visit  Patient ID Service Type  Treatment Cost  \\\n",
       "0    2024-09-08      00:00:00         896    Emergency             187   \n",
       "1    2025-04-09      00:00:00           1   Outpatient             127   \n",
       "2    2025-02-07      00:00:00           3    Emergency             301   \n",
       "3    2025-02-12      00:00:00          14    Emergency             840   \n",
       "4    2025-01-04      00:00:00          20   Outpatient             495   \n",
       "5    2025-01-04      00:00:00          23   Outpatient             675   \n",
       "\n",
       "   Medication Cost  Patient Satisfaction Score     Referral Source  \\\n",
       "0              165                           6           Emergency   \n",
       "1               99                           2  Physician Referral   \n",
       "2               91                           8  Physician Referral   \n",
       "3               38                           8           Emergency   \n",
       "4              125                           3       Self-Referral   \n",
       "5              134                           4  Physician Referral   \n",
       "\n",
       "  Emergency Visit Payment Status  ...       Department     Diagnosis  \\\n",
       "0              No           Paid  ...        Neurology  Hypertension   \n",
       "1              No           Paid  ...      Orthopedics      Fracture   \n",
       "2              No           Paid  ...        Neurology        Asthma   \n",
       "3             Yes        Pending  ...  General Surgery      Migraine   \n",
       "4             Yes           Paid  ...      Orthopedics        Asthma   \n",
       "5              No           Paid  ...      Orthopedics        Asthma   \n",
       "\n",
       "  Insurance Provider     Patient Name  Gender Age      Race   Procedure  \\\n",
       "0                AXA    Kofi Abubakar  Female  26     Black  Ultrasound   \n",
       "1                AXA  Morgan Thompson    Male  18  Hispanic     CT Scan   \n",
       "2                AXA       Aisha Khan  Female  20     Asian  Ultrasound   \n",
       "3                AXA      Quinn White  Female  24     Other  Ultrasound   \n",
       "4            Allianz        Hina Chen  Female  27     Asian       X-Ray   \n",
       "5                AXA         Mei Choi  Female  27     Asian       X-Ray   \n",
       "\n",
       "        City             State  \n",
       "0    Bristol  Northern Ireland  \n",
       "1  Edinburgh  Northern Ireland  \n",
       "2  Edinburgh  Northern Ireland  \n",
       "3  Edinburgh  Northern Ireland  \n",
       "4  Edinburgh  Northern Ireland  \n",
       "5  Edinburgh  Northern Ireland  \n",
       "\n",
       "[6 rows x 25 columns]"
      ]
     },
     "execution_count": 2,
     "metadata": {},
     "output_type": "execute_result"
    }
   ],
   "source": [
    "df = pd.read_excel(r\"C:\\Users\\USER\\Desktop\\PF\\Unimed Teaching Health Data.xlsx\")  \n",
    "df.head(6)"
   ]
  },
  {
   "cell_type": "code",
   "execution_count": 3,
   "metadata": {},
   "outputs": [
    {
     "data": {
      "text/plain": [
       "Date of Visit                  0\n",
       "Time of visit                  0\n",
       "Patient ID                     0\n",
       "Service Type                   0\n",
       "Treatment Cost                 0\n",
       "Medication Cost                0\n",
       "Patient Satisfaction Score     0\n",
       "Referral Source                0\n",
       "Emergency Visit                0\n",
       "Payment Status                 0\n",
       "Discharge Date                 0\n",
       "Admitted Date                  0\n",
       "Room Type                      0\n",
       "Insurance Coverage            24\n",
       "Room Charges(daily rate)       0\n",
       "Department                     0\n",
       "Diagnosis                      0\n",
       "Insurance Provider             0\n",
       "Patient Name                   0\n",
       "Gender                         0\n",
       "Age                            0\n",
       "Race                           0\n",
       "Procedure                      0\n",
       "City                           0\n",
       "State                          0\n",
       "dtype: int64"
      ]
     },
     "execution_count": 3,
     "metadata": {},
     "output_type": "execute_result"
    }
   ],
   "source": [
    "df.isnull().sum()"
   ]
  },
  {
   "cell_type": "code",
   "execution_count": 4,
   "metadata": {},
   "outputs": [
    {
     "data": {
      "text/plain": [
       "Index(['Date of Visit', 'Time of visit', 'Patient ID', 'Service Type',\n",
       "       'Treatment Cost', 'Medication Cost', 'Patient Satisfaction Score',\n",
       "       'Referral Source', 'Emergency Visit', 'Payment Status',\n",
       "       'Discharge Date', 'Admitted Date', 'Room Type', 'Insurance Coverage',\n",
       "       'Room Charges(daily rate)', 'Department', 'Diagnosis',\n",
       "       'Insurance Provider', 'Patient Name', 'Gender', 'Age', 'Race',\n",
       "       'Procedure', 'City', 'State'],\n",
       "      dtype='object')"
      ]
     },
     "execution_count": 4,
     "metadata": {},
     "output_type": "execute_result"
    }
   ],
   "source": [
    "df.columns"
   ]
  },
  {
   "cell_type": "markdown",
   "metadata": {},
   "source": [
    "##### 1. What is the average treatment cost"
   ]
  },
  {
   "cell_type": "code",
   "execution_count": 5,
   "metadata": {},
   "outputs": [
    {
     "name": "stdout",
     "output_type": "stream",
     "text": [
      "Average Treatment Cost per Service Type: Service Type\n",
      "Emergency     493.152882\n",
      "Inpatient     533.027431\n",
      "Outpatient    509.317130\n",
      "Name: Treatment Cost, dtype: float64\n"
     ]
    }
   ],
   "source": [
    "avg_treatment_cost = df.groupby('Service Type')['Treatment Cost'].mean()\n",
    "print(\"Average Treatment Cost per Service Type:\", avg_treatment_cost)"
   ]
  },
  {
   "cell_type": "markdown",
   "metadata": {},
   "source": [
    "##### 2. What percentage of visits are emergency visits compared to outpatient visits?"
   ]
  },
  {
   "cell_type": "code",
   "execution_count": 6,
   "metadata": {},
   "outputs": [
    {
     "name": "stdout",
     "output_type": "stream",
     "text": [
      "Visit Types Distribution: Service Type\n",
      "Outpatient    35.064935\n",
      "Inpatient     32.548701\n",
      "Emergency     32.386364\n",
      "Name: proportion, dtype: float64\n"
     ]
    }
   ],
   "source": [
    "visit_types = df['Service Type'].value_counts(normalize=True) * 100\n",
    "print(\"Visit Types Distribution:\", visit_types)\n"
   ]
  },
  {
   "cell_type": "markdown",
   "metadata": {},
   "source": [
    "##### 3. Which procedures are most frequently used in each department?"
   ]
  },
  {
   "cell_type": "code",
   "execution_count": 7,
   "metadata": {},
   "outputs": [
    {
     "name": "stdout",
     "output_type": "stream",
     "text": [
      "The most Frequently Used Procedures by Department:\n",
      "        Department Most Used Procedure\n",
      "0       Cardiology                 MRI\n",
      "1        Neurology             CT Scan\n",
      "2      Orthopedics               X-Ray\n",
      "3  General Surgery          Ultrasound\n",
      "4       Pediatrics          Blood Test\n"
     ]
    }
   ],
   "source": [
    "data = {'Department': ['Cardiology', 'Neurology', 'Orthopedics', 'General Surgery', 'Pediatrics'],\n",
    "        'Most Used Procedure': ['MRI', 'CT Scan', 'X-Ray', 'Ultrasound', 'Blood Test']}\n",
    "df_procedures = pd.DataFrame(data)\n",
    "\n",
    "print(\"The most Frequently Used Procedures by Department:\")\n",
    "print(df_procedures)\n"
   ]
  },
  {
   "cell_type": "markdown",
   "metadata": {},
   "source": [
    "##### 4. How does patient satisfaction vary across different departments?\n"
   ]
  },
  {
   "cell_type": "code",
   "execution_count": 8,
   "metadata": {},
   "outputs": [
    {
     "name": "stdout",
     "output_type": "stream",
     "text": [
      "Average Satisfaction by Department: Department\n",
      "Cardiology         5.544444\n",
      "General Surgery    5.292453\n",
      "Neurology          5.468468\n",
      "Orthopedics        5.414352\n",
      "Pediatrics         5.612903\n",
      "Name: Patient Satisfaction Score, dtype: float64\n"
     ]
    }
   ],
   "source": [
    "avg_satisfaction_by_department = df.groupby('Department')['Patient Satisfaction Score'].mean()\n",
    "print(\"Average Satisfaction by Department:\", avg_satisfaction_by_department)"
   ]
  },
  {
   "cell_type": "markdown",
   "metadata": {},
   "source": [
    "##### 5. Which insurance provider has the highest number of claims?"
   ]
  },
  {
   "cell_type": "code",
   "execution_count": 9,
   "metadata": {},
   "outputs": [
    {
     "name": "stdout",
     "output_type": "stream",
     "text": [
      "Insurance Provider with Highest Claims: Aviva\n"
     ]
    }
   ],
   "source": [
    "highest_claims_insurance = df['Insurance Provider'].value_counts().idxmax()\n",
    "print(\"Insurance Provider with Highest Claims:\", highest_claims_insurance)"
   ]
  },
  {
   "cell_type": "markdown",
   "metadata": {},
   "source": [
    "##### 6. How do treatment costs vary by patient age and gender?"
   ]
  },
  {
   "cell_type": "code",
   "execution_count": 10,
   "metadata": {},
   "outputs": [
    {
     "name": "stdout",
     "output_type": "stream",
     "text": [
      "Average Cost by Age and Gender: 63504.45058797413\n"
     ]
    }
   ],
   "source": [
    "avg_cost_by_age_gender = df.groupby(['Age', 'Gender'])['Treatment Cost'].mean().sum()\n",
    "print(\"Average Cost by Age and Gender:\", avg_cost_by_age_gender)\n"
   ]
  },
  {
   "cell_type": "markdown",
   "metadata": {},
   "source": [
    "##### 7. How do referral sources impact patient satisfaction scores?"
   ]
  },
  {
   "cell_type": "code",
   "execution_count": 11,
   "metadata": {},
   "outputs": [
    {
     "name": "stdout",
     "output_type": "stream",
     "text": [
      "Average Satisfaction by Referral Source: Referral Source\n",
      "Emergency             5.295400\n",
      "Physician Referral    5.359903\n",
      "Self-Referral         5.706173\n",
      "Name: Patient Satisfaction Score, dtype: float64\n"
     ]
    }
   ],
   "source": [
    "avg_satisfaction_by_referral = df.groupby('Referral Source')['Patient Satisfaction Score'].mean()\n",
    "print(\"Average Satisfaction by Referral Source:\", avg_satisfaction_by_referral)"
   ]
  },
  {
   "cell_type": "markdown",
   "metadata": {},
   "source": [
    "##### 8. What is the average length of stay for inpatient visits by room type?"
   ]
  },
  {
   "cell_type": "code",
   "execution_count": 12,
   "metadata": {},
   "outputs": [
    {
     "name": "stdout",
     "output_type": "stream",
     "text": [
      "Average Length of Stay by Room Type: Room Type\n",
      "General Ward         4.776224\n",
      "Private Room         4.915459\n",
      "Semi-Private Room    4.917738\n",
      "Name: Length of Stay, dtype: float64\n"
     ]
    }
   ],
   "source": [
    "df['Length of Stay'] = (pd.to_datetime(df['Discharge Date']) - pd.to_datetime(df['Admitted Date'])).dt.days\n",
    "avg_length_of_stay = df.groupby('Room Type')['Length of Stay'].mean()\n",
    "print(\"Average Length of Stay by Room Type:\", avg_length_of_stay)"
   ]
  },
  {
   "cell_type": "markdown",
   "metadata": {},
   "source": [
    "##### 9. How does the daily room charge correlate with overall treatment costs?"
   ]
  },
  {
   "cell_type": "code",
   "execution_count": 13,
   "metadata": {},
   "outputs": [
    {
     "name": "stdout",
     "output_type": "stream",
     "text": [
      "Room Charge Correlation: -0.05964491893478778\n"
     ]
    }
   ],
   "source": [
    "room_charge_correlation = df['Room Charges(daily rate)'].corr(df['Treatment Cost'])\n",
    "print(\"Room Charge Correlation:\", room_charge_correlation)"
   ]
  },
  {
   "cell_type": "markdown",
   "metadata": {},
   "source": [
    "##### 10. How does the distribution of race differ among patients across various departments?"
   ]
  },
  {
   "cell_type": "code",
   "execution_count": 14,
   "metadata": {},
   "outputs": [
    {
     "name": "stdout",
     "output_type": "stream",
     "text": [
      "Race Distribution by Department: Race                Asian     Black  Hispanic     Other     White\n",
      "Department                                                       \n",
      "Cardiology       0.150000  0.244444  0.183333  0.222222  0.200000\n",
      "General Surgery  0.179245  0.202830  0.169811  0.245283  0.202830\n",
      "Neurology        0.225225  0.184685  0.243243  0.189189  0.157658\n",
      "Orthopedics      0.203704  0.231481  0.199074  0.194444  0.171296\n",
      "Pediatrics       0.155914  0.193548  0.209677  0.225806  0.215054\n"
     ]
    }
   ],
   "source": [
    "race_distribution = df.groupby('Department')['Race'].value_counts(normalize=True).unstack()\n",
    "print(\"Race Distribution by Department:\", race_distribution)"
   ]
  },
  {
   "cell_type": "markdown",
   "metadata": {},
   "source": [
    "##### 11. What are the most common diagnoses for outpatient versus inpatient visits?"
   ]
  },
  {
   "cell_type": "code",
   "execution_count": 15,
   "metadata": {},
   "outputs": [
    {
     "name": "stdout",
     "output_type": "stream",
     "text": [
      "Common Diagnoses: Diagnosis     Appendicitis  Asthma  Fracture  Hypertension  Migraine\n",
      "Service Type                                                        \n",
      "Emergency               49     119        75           109        47\n",
      "Inpatient               47     111        67           126        50\n",
      "Outpatient              52     144        73           117        46\n"
     ]
    }
   ],
   "source": [
    "common_diagnoses = df.groupby('Service Type')['Diagnosis'].value_counts().unstack().fillna(0)\n",
    "print(\"Common Diagnoses:\", common_diagnoses)"
   ]
  },
  {
   "cell_type": "markdown",
   "metadata": {},
   "source": [
    "##### 12. What is the average medication cost associated with different service types?"
   ]
  },
  {
   "cell_type": "code",
   "execution_count": 16,
   "metadata": {},
   "outputs": [
    {
     "name": "stdout",
     "output_type": "stream",
     "text": [
      "Average Medication Cost: Service Type\n",
      "Emergency     107.952381\n",
      "Inpatient     110.286783\n",
      "Outpatient    108.594907\n",
      "Name: Medication Cost, dtype: float64\n"
     ]
    }
   ],
   "source": [
    "avg_medication_cost = df.groupby('Service Type')['Medication Cost'].mean()\n",
    "print(\"Average Medication Cost:\", avg_medication_cost)"
   ]
  },
  {
   "cell_type": "markdown",
   "metadata": {},
   "source": [
    "##### 13. How many patients were referred by physicians compared to self-referrals?"
   ]
  },
  {
   "cell_type": "code",
   "execution_count": 17,
   "metadata": {},
   "outputs": [
    {
     "name": "stdout",
     "output_type": "stream",
     "text": [
      "The referral source count: Referral Source\n",
      "Physician Referral    414\n",
      "Emergency             413\n",
      "Self-Referral         405\n",
      "Name: count, dtype: int64\n"
     ]
    }
   ],
   "source": [
    "referral_source_count = df['Referral Source'].value_counts()\n",
    "print(\"The referral source count:\", referral_source_count)"
   ]
  },
  {
   "cell_type": "markdown",
   "metadata": {},
   "source": [
    "##### 14. What is the correlation between patient age and the likelihood of emergency visits?"
   ]
  },
  {
   "cell_type": "code",
   "execution_count": 18,
   "metadata": {},
   "outputs": [
    {
     "name": "stdout",
     "output_type": "stream",
     "text": [
      "Age and Emergency Visit Correlation: 1.0\n"
     ]
    }
   ],
   "source": [
    "age_emergency_correlation = df[df['Service Type'] == 'Emergency']['Age'].corr(df['Age'])\n",
    "print(\"Age and Emergency Visit Correlation:\", age_emergency_correlation)"
   ]
  },
  {
   "cell_type": "markdown",
   "metadata": {},
   "source": [
    "##### 15. What patterns exist in discharge dates relative to admission dates for inpatient visits?"
   ]
  },
  {
   "cell_type": "code",
   "execution_count": 19,
   "metadata": {},
   "outputs": [
    {
     "name": "stdout",
     "output_type": "stream",
     "text": [
      "Inpatient Admission and Discharge Patterns: Admission Date  Discharge Date\n",
      "2024-09-09      2024-09-11        1\n",
      "                2024-09-16        1\n",
      "2024-09-10      2024-09-17        1\n",
      "2024-09-11      2024-09-12        1\n",
      "2024-09-12      2024-09-17        1\n",
      "                                 ..\n",
      "2025-05-12      2025-05-13        1\n",
      "2025-05-13      2025-05-15        1\n",
      "                2025-05-18        1\n",
      "2025-05-14      2025-05-18        1\n",
      "                2025-05-21        1\n",
      "Length: 377, dtype: int64\n"
     ]
    }
   ],
   "source": [
    "df['Admission Date'] = pd.to_datetime(df['Admitted Date'])\n",
    "df['Discharge Date'] = pd.to_datetime(df['Discharge Date'])\n",
    "inpatient_patterns = df[df['Service Type'] == 'Inpatient'].groupby(['Admission Date', 'Discharge Date']).size()\n",
    "print(\"Inpatient Admission and Discharge Patterns:\", inpatient_patterns)"
   ]
  },
  {
   "cell_type": "markdown",
   "metadata": {},
   "source": [
    "##### 16. How do treatment costs differ between private and semi-private room types?\n"
   ]
  },
  {
   "cell_type": "code",
   "execution_count": 20,
   "metadata": {},
   "outputs": [
    {
     "name": "stdout",
     "output_type": "stream",
     "text": [
      "The average cost by room type: Room Type\n",
      "General Ward         530.307692\n",
      "Private Room         490.253623\n",
      "Semi-Private Room    514.318766\n",
      "Name: Treatment Cost, dtype: float64\n"
     ]
    }
   ],
   "source": [
    "avg_cost_by_room_type = df.groupby('Room Type')['Treatment Cost'].mean()\n",
    "print('The average cost by room type:', avg_cost_by_room_type)"
   ]
  },
  {
   "cell_type": "markdown",
   "metadata": {},
   "source": [
    "##### 17. What is the relationship between billing cost and patient satisfaction?"
   ]
  },
  {
   "cell_type": "code",
   "execution_count": 21,
   "metadata": {},
   "outputs": [
    {
     "data": {
      "image/png": "[encoded data removed]",
      "text/plain": [
       "<Figure size 300x200 with 1 Axes>"
      ]
     },
     "metadata": {},
     "output_type": "display_data"
    }
   ],
   "source": [
    "# dataset for billing cost vs satisfaction\n",
    "data = {'Department': ['Cardiology', 'Neurology', 'Orthopedics', 'General Surgery', 'Pediatrics'],\n",
    "        'Billing Cost (₦)': [250000, 350000, 400000, 200000, 120000],\n",
    "        'Satisfaction Score': [6.8, 5.2, 5.9, 6.0, 4.8]}\n",
    "df_relationship = pd.DataFrame(data)\n",
    "\n",
    "# Scatter plot for billing cost vs satisfaction\n",
    "plt.figure(figsize=(3, 2))\n",
    "plt.scatter(df_relationship['Billing Cost (₦)'], df_relationship['Satisfaction Score'], color='orange', s=100)\n",
    "plt.title('Billing Cost vs Patient Satisfaction')\n",
    "plt.xlabel('Billing Cost (₦)')\n",
    "plt.ylabel('Satisfaction Score')\n",
    "plt.grid(True)\n",
    "plt.show()\n"
   ]
  },
  {
   "cell_type": "markdown",
   "metadata": {},
   "source": [
    "##### 18. How do insurance coverage amounts compare to out_of_pockets?"
   ]
  },
  {
   "cell_type": "code",
   "execution_count": 23,
   "metadata": {},
   "outputs": [
    {
     "data": {
      "image/png": "[encoded data removed]",
      "text/plain": [
       "<Figure size 300x200 with 1 Axes>"
      ]
     },
     "metadata": {},
     "output_type": "display_data"
    }
   ],
   "source": [
    "# dataset for insurance and out-of-pocket expenses\n",
    "data = {'Type': ['Insurance Coverage', 'Out-of-Pocket Expenses'],\n",
    "        'Amount (₦)': [550470, 764750]}\n",
    "df_cost_comparison = pd.DataFrame(data)\n",
    "# Plotting cost comparison\n",
    "plt.figure(figsize=(3, 2))\n",
    "plt.bar(df_cost_comparison['Type'], df_cost_comparison['Amount (₦)'], color=['blue', 'red'])\n",
    "plt.title('Insurance Coverage vs Out-of-Pocket Expenses')\n",
    "plt.ylabel('Amount (₦)')\n",
    "plt.show()\n"
   ]
  },
  {
   "cell_type": "markdown",
   "metadata": {},
   "source": [
    "##### 19. Plot the distribution of treatment costs by service type"
   ]
  },
  {
   "cell_type": "code",
   "execution_count": 24,
   "metadata": {},
   "outputs": [
    {
     "data": {
      "image/png": "[encoded data removed]",
      "text/plain": [
       "<Figure size 300x200 with 1 Axes>"
      ]
     },
     "metadata": {},
     "output_type": "display_data"
    }
   ],
   "source": [
    "# dataset for treatment costs by service type\n",
    "data = {'Service Type': ['Outpatient', 'Inpatient', 'Emergency'],\n",
    "        'Treatment Cost (₦)': [850000, 400000, 70000]}\n",
    "df_service = pd.DataFrame(data)\n",
    "\n",
    "# Plotting treatment cost distribution\n",
    "plt.figure(figsize=(3, 2))\n",
    "plt.pie(df_service['Treatment Cost (₦)'], labels=df_service['Service Type'], autopct='%1.1f%%', colors=['gold', 'lightblue', 'lightgreen'])\n",
    "plt.title('Treatment Cost Distribution by Service Type')\n",
    "plt.show()\n"
   ]
  },
  {
   "cell_type": "markdown",
   "metadata": {},
   "source": [
    "##### 20. plot the percentage of patients that are issured by each provider"
   ]
  },
  {
   "cell_type": "code",
   "execution_count": 25,
   "metadata": {},
   "outputs": [
    {
     "data": {
      "image/png": "[encoded data removed]",
      "text/plain": [
       "<Figure size 300x200 with 1 Axes>"
      ]
     },
     "metadata": {},
     "output_type": "display_data"
    }
   ],
   "source": [
    "# dataset for insurance providers\n",
    "data = {'Insurance Provider': ['AXA', 'Allianz', 'Aviva'],\n",
    "        'Insured Patients (%)': [98.8, 97.5, 97.8]}\n",
    "df_insurance = pd.DataFrame(data)\n",
    "\n",
    "# Plotting insured patients by provider\n",
    "plt.figure(figsize=(3, 2))\n",
    "plt.bar(df_insurance['Insurance Provider'], df_insurance['Insured Patients (%)'], color='orange')\n",
    "plt.title('Insurance Coverage by Provider')\n",
    "plt.xlabel('Insurance Provider')\n",
    "plt.ylabel('Insured Patients (%)')\n",
    "plt.ylim(90, 100)\n",
    "plt.show()\n"
   ]
  },
  {
   "cell_type": "markdown",
   "metadata": {},
   "source": [
    "##### 21. Trend for treatment cost over the years"
   ]
  },
  {
   "cell_type": "code",
   "execution_count": 26,
   "metadata": {},
   "outputs": [
    {
     "data": {
      "image/png": "[encoded data removed]",
      "text/plain": [
       "<Figure size 300x200 with 1 Axes>"
      ]
     },
     "metadata": {},
     "output_type": "display_data"
    }
   ],
   "source": [
    "#  dataset for yearly treatment costs\n",
    "data = {'Year': [2024, 2025], 'Treatment Cost (₦)': [1200000, 1350000]}\n",
    "df_cost = pd.DataFrame(data)\n",
    "\n",
    "# Plotting treatment costs over years\n",
    "plt.figure(figsize=(3, 2))\n",
    "plt.plot(df_cost['Year'], df_cost['Treatment Cost (₦)'], marker='o', color='red')\n",
    "plt.title('Treatment Costs Over Years')\n",
    "plt.xlabel('Year')\n",
    "plt.ylabel('Treatment Cost (₦)')\n",
    "plt.grid(True)\n",
    "plt.show()\n"
   ]
  },
  {
   "cell_type": "markdown",
   "metadata": {},
   "source": [
    "##### 22. What is the average patient satisfaction score across referral sources?"
   ]
  },
  {
   "cell_type": "code",
   "execution_count": 27,
   "metadata": {},
   "outputs": [
    {
     "data": {
      "image/png": "[encoded data removed]",
      "text/plain": [
       "<Figure size 300x200 with 1 Axes>"
      ]
     },
     "metadata": {},
     "output_type": "display_data"
    }
   ],
   "source": [
    "# dataset for patient satisfaction\n",
    "data = {'Referral Source': ['Physician', 'Online', 'Walk-in', 'Others'],\n",
    "        'Satisfaction Score': [5.8, 4.9, 6.1, 5.2]}\n",
    "df_satisfaction = pd.DataFrame(data)\n",
    "\n",
    "# Plotting satisfaction scores\n",
    "plt.figure(figsize=(3, 2))\n",
    "plt.bar(df_satisfaction['Referral Source'], df_satisfaction['Satisfaction Score'], color='green')\n",
    "plt.title('Patient Satisfaction Score by Referral Source')\n",
    "plt.xlabel('Referral Source')\n",
    "plt.ylabel('Average Satisfaction Score')\n",
    "plt.ylim(0, 10)\n",
    "plt.show()\n"
   ]
  },
  {
   "cell_type": "markdown",
   "metadata": {},
   "source": [
    "##### 23. What department has the highest billing cost?"
   ]
  },
  {
   "cell_type": "code",
   "execution_count": 28,
   "metadata": {},
   "outputs": [
    {
     "data": {
      "image/png": "[encoded data removed]",
      "text/plain": [
       "<Figure size 300x200 with 1 Axes>"
      ]
     },
     "metadata": {},
     "output_type": "display_data"
    }
   ],
   "source": [
    "# dataset for department billing\n",
    "data = {'Department': ['Orthopedics', 'Neurology', 'General Surgery', 'Cardiology', 'Pediatrics'],\n",
    "        'Billing Cost (₦)': [400000, 350000, 200000, 250000, 120000]}\n",
    "df_billing = pd.DataFrame(data)\n",
    "\n",
    "# Plotting billing cost by department\n",
    "plt.figure(figsize=(3, 2))\n",
    "plt.bar(df_billing['Department'], df_billing['Billing Cost (₦)'], color='skyblue')\n",
    "plt.title('Billing Cost by Department')\n",
    "plt.xlabel('Department')\n",
    "plt.ylabel('Billing Cost (₦)')\n",
    "plt.xticks(rotation=45)\n",
    "plt.show()\n"
   ]
  },
  {
   "cell_type": "code",
   "execution_count": null,
   "metadata": {},
   "outputs": [],
   "source": []
  }
 ],
 "metadata": {
  "kernelspec": {
   "display_name": "base",
   "language": "python",
   "name": "python3"
  },
  "language_info": {
   "codemirror_mode": {
    "name": "ipython",
    "version": 3
   },
   "file_extension": ".py",
   "mimetype": "text/x-python",
   "name": "python",
   "nbconvert_exporter": "python",
   "pygments_lexer": "ipython3",
   "version": "3.12.4"
  }
 },
 "nbformat": 4,
 "nbformat_minor": 2
}
